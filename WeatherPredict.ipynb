{
 "cells": [
  {
   "cell_type": "code",
   "execution_count": 1,
   "metadata": {},
   "outputs": [],
   "source": [
    "import pandas as pd\n",
    "import matplotlib.pyplot as plt\n",
    "import numpy as np\n",
    "from sklearn import datasets, linear_model\n",
    "import csv"
   ]
  },
  {
   "cell_type": "code",
   "execution_count": 2,
   "metadata": {},
   "outputs": [],
   "source": [
    "#读取数据，储存成数组\n",
    "def load_exdata(filename):\n",
    "    data = []\n",
    "    with open(filename, 'r') as f:\n",
    "        for line in f.readlines():\n",
    "            line = line.split(',')\n",
    "            item = [float(items) for items in line]      \n",
    "            data.append(item)\n",
    "    return data"
   ]
  },
  {
   "cell_type": "code",
   "execution_count": 3,
   "metadata": {},
   "outputs": [],
   "source": [
    "#构造特征缩放函数\n",
    "def featureScaling(x):\n",
    "    averageX = np.zeros((1,x.shape[1]))\n",
    "    sigma = np.zeros((1,x.shape[1]))\n",
    "    for i in range(x.shape[1]):\n",
    "        averageX[0,i] = np.mean(x[:,i])    #计算矩阵平均值 \n",
    "        sigma[0,i] = np.std(x[:,i])        #计算矩阵标准差\n",
    "    \n",
    "    featureX = x   \n",
    "    featureX = (x-averageX) / sigma\n",
    "    \n",
    "    return featureX"
   ]
  },
  {
   "cell_type": "code",
   "execution_count": 4,
   "metadata": {},
   "outputs": [],
   "source": [
    "#计算损失\n",
    "def CostFuction(XX,Y,theta):\n",
    "    m =len(XX)\n",
    "    temp = XX.dot(theta) - Y\n",
    "    cost = temp.T.dot(temp) / 2 * m\n",
    "    return cost"
   ]
  },
  {
   "cell_type": "code",
   "execution_count": 5,
   "metadata": {},
   "outputs": [],
   "source": [
    "#构造递归函数    \n",
    "def gradientDescent(X, Y, theta, alpha, interations):\n",
    "    m =len(X)\n",
    "    J_history = np.zeros((interations, 1))\n",
    "    \n",
    "    # 对J求偏导，更新theta\n",
    "    for i in range(interations):\n",
    "        theta = theta - (alpha / m) * (X.T.dot(X.dot(theta) - Y))\n",
    "        J_history[i] = CostFuction(X, Y, theta)\n",
    "    return J_history, theta"
   ]
  },
  {
   "cell_type": "code",
   "execution_count": 6,
   "metadata": {},
   "outputs": [],
   "source": [
    "#将列表转为数组\n",
    "data = load_exdata('wizmir.dat')\n",
    "data = np.array(data,np.float64)"
   ]
  },
  {
   "cell_type": "code",
   "execution_count": 7,
   "metadata": {},
   "outputs": [],
   "source": [
    "#导入数据X，Y，进行矩阵定义\n",
    "X = data[: , ( 0,1,2,3,4,5,6,7,8)].reshape((-1, 9))\n",
    "Y = data[: , 9].reshape((-1, 1))"
   ]
  },
  {
   "cell_type": "code",
   "execution_count": 8,
   "metadata": {},
   "outputs": [],
   "source": [
    "#特征缩放\n",
    "X = featureScaling(X)\n",
    "#计算损失\n",
    "XX = np.hstack([X, np.ones((X.shape[0], 1))])\n",
    "theta = np.zeros((10, 1))\n",
    "#迭代次数\n",
    "interations = 10000 \n",
    "#学习率\n",
    "alpha = 0.01 "
   ]
  },
  {
   "cell_type": "code",
   "execution_count": 9,
   "metadata": {},
   "outputs": [
    {
     "name": "stdout",
     "output_type": "stream",
     "text": [
      "Theta found by gradient descent\n",
      " [[ 9.14986489e+00]\n",
      " [ 4.86240443e+00]\n",
      " [ 4.16522615e-01]\n",
      " [-2.21823731e-02]\n",
      " [-3.23330514e-01]\n",
      " [ 4.30302151e-02]\n",
      " [ 4.62957263e-01]\n",
      " [ 1.76847569e-02]\n",
      " [-1.15116702e-01]\n",
      " [ 6.15075975e+01]]\n"
     ]
    }
   ],
   "source": [
    "j = CostFuction(XX, Y, theta)\n",
    "J_history,theta = gradientDescent(XX, Y, theta, alpha, interations)\n",
    "\n",
    "print('Theta found by gradient descent\\n', theta)"
   ]
  },
  {
   "cell_type": "code",
   "execution_count": 10,
   "metadata": {},
   "outputs": [],
   "source": [
    "#计算出Y的均值\n",
    "averageY = np.zeros((1,Y.shape[1]))\n",
    "for i in range(Y.shape[1]):\n",
    "    averageY[0,i] = np.mean(Y[:,i])"
   ]
  },
  {
   "cell_type": "code",
   "execution_count": 11,
   "metadata": {},
   "outputs": [],
   "source": [
    "#计算预测的Y值，predictY\n",
    "predictY = np.zeros((XX.shape[0],1))\n",
    "predictY = XX.dot(theta)"
   ]
  },
  {
   "cell_type": "code",
   "execution_count": 13,
   "metadata": {},
   "outputs": [
    {
     "name": "stdout",
     "output_type": "stream",
     "text": [
      "[[0.99241244]]\n"
     ]
    }
   ],
   "source": [
    "#模型拟合度检验\n",
    "t1 = Y - predictY\n",
    "SSE = t1.T.dot(t1)\n",
    "t2 = Y - averageY\n",
    "SST = t2.T.dot(t2)\n",
    "#修正前的判定系数\n",
    "rr = 1 - SSE / SST\n",
    "print(rr)\n",
    "#修正后判定系数\n",
    "RR = 1-(SSE / (1461 - 9 - 1)) / (SST / (1461 - 1))"
   ]
  },
  {
   "cell_type": "code",
   "execution_count": 17,
   "metadata": {},
   "outputs": [
    {
     "name": "stdout",
     "output_type": "stream",
     "text": [
      "[[21086.88394277]]\n"
     ]
    }
   ],
   "source": [
    "#回归方程的显著性检验\n",
    "temp3 = predictY - averageY\n",
    "SSR = temp3.T.dot(temp3)\n",
    "F = (SSR / 9 )/ (SSE / (1461 - 9 -1))\n",
    "print(F)"
   ]
  },
  {
   "cell_type": "code",
   "execution_count": 19,
   "metadata": {},
   "outputs": [
    {
     "name": "stdout",
     "output_type": "stream",
     "text": [
      "[99.79628809]\n",
      "[39.66964614]\n",
      "[6.10514693]\n",
      "[-0.61535586]\n",
      "[-7.1949499]\n",
      "[1.22993521]\n",
      "[6.96689198]\n",
      "[0.34261509]\n",
      "[-3.32655113]\n",
      "[1871.60860313]\n"
     ]
    }
   ],
   "source": [
    "#构造t统计\n",
    "temp4 = np.zeros((XX.shape[0],XX.shape[0]))\n",
    "temp4 = np.linalg.inv(np.dot(np.transpose(XX),XX))\n",
    "t = np.zeros((10,1))\n",
    "for i in range(t.shape[0]):\n",
    "    t[i] = theta[i] / np.sqrt(temp4[i,i] * SSE / 1451)\n",
    "    print (t[i])"
   ]
  },
  {
   "cell_type": "code",
   "execution_count": null,
   "metadata": {},
   "outputs": [],
   "source": []
  }
 ],
 "metadata": {
  "kernelspec": {
   "display_name": "Python 3",
   "language": "python",
   "name": "python3"
  },
  "language_info": {
   "codemirror_mode": {
    "name": "ipython",
    "version": 3
   },
   "file_extension": ".py",
   "mimetype": "text/x-python",
   "name": "python",
   "nbconvert_exporter": "python",
   "pygments_lexer": "ipython3",
   "version": "3.6.4"
  }
 },
 "nbformat": 4,
 "nbformat_minor": 2
}
